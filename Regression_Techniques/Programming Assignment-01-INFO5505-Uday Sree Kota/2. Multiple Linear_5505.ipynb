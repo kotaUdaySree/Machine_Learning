{
 "cells": [
  {
   "cell_type": "code",
   "execution_count": 1,
   "id": "1550a029",
   "metadata": {},
   "outputs": [],
   "source": [
    "# Importing libraries\n",
    "# -------------------\n",
    "import numpy as np\n",
    "import matplotlib.pyplot as plt\n",
    "import pandas as pd"
   ]
  },
  {
   "cell_type": "code",
   "execution_count": 2,
   "id": "6ef82aa9",
   "metadata": {},
   "outputs": [
    {
     "data": {
      "text/html": [
       "<div>\n",
       "<style scoped>\n",
       "    .dataframe tbody tr th:only-of-type {\n",
       "        vertical-align: middle;\n",
       "    }\n",
       "\n",
       "    .dataframe tbody tr th {\n",
       "        vertical-align: top;\n",
       "    }\n",
       "\n",
       "    .dataframe thead th {\n",
       "        text-align: right;\n",
       "    }\n",
       "</style>\n",
       "<table border=\"1\" class=\"dataframe\">\n",
       "  <thead>\n",
       "    <tr style=\"text-align: right;\">\n",
       "      <th></th>\n",
       "      <th>Product_1</th>\n",
       "      <th>Product_2</th>\n",
       "      <th>Product_3</th>\n",
       "      <th>Location</th>\n",
       "      <th>Profit</th>\n",
       "    </tr>\n",
       "  </thead>\n",
       "  <tbody>\n",
       "    <tr>\n",
       "      <th>0</th>\n",
       "      <td>165349.20</td>\n",
       "      <td>136897.80</td>\n",
       "      <td>471784.10</td>\n",
       "      <td>City_1</td>\n",
       "      <td>192261.83</td>\n",
       "    </tr>\n",
       "    <tr>\n",
       "      <th>1</th>\n",
       "      <td>162597.70</td>\n",
       "      <td>151377.59</td>\n",
       "      <td>443898.53</td>\n",
       "      <td>City_2</td>\n",
       "      <td>191792.06</td>\n",
       "    </tr>\n",
       "    <tr>\n",
       "      <th>2</th>\n",
       "      <td>153441.51</td>\n",
       "      <td>101145.55</td>\n",
       "      <td>407934.54</td>\n",
       "      <td>City_3</td>\n",
       "      <td>191050.39</td>\n",
       "    </tr>\n",
       "    <tr>\n",
       "      <th>3</th>\n",
       "      <td>144372.41</td>\n",
       "      <td>118671.85</td>\n",
       "      <td>383199.62</td>\n",
       "      <td>City_1</td>\n",
       "      <td>182901.99</td>\n",
       "    </tr>\n",
       "    <tr>\n",
       "      <th>4</th>\n",
       "      <td>142107.34</td>\n",
       "      <td>91391.77</td>\n",
       "      <td>366168.42</td>\n",
       "      <td>City_3</td>\n",
       "      <td>166187.94</td>\n",
       "    </tr>\n",
       "  </tbody>\n",
       "</table>\n",
       "</div>"
      ],
      "text/plain": [
       "   Product_1  Product_2  Product_3 Location     Profit\n",
       "0  165349.20  136897.80  471784.10   City_1  192261.83\n",
       "1  162597.70  151377.59  443898.53   City_2  191792.06\n",
       "2  153441.51  101145.55  407934.54   City_3  191050.39\n",
       "3  144372.41  118671.85  383199.62   City_1  182901.99\n",
       "4  142107.34   91391.77  366168.42   City_3  166187.94"
      ]
     },
     "execution_count": 2,
     "metadata": {},
     "output_type": "execute_result"
    }
   ],
   "source": [
    "# Importing the dataset\n",
    "# ---------------------\n",
    "dataset = pd.read_csv(\"Multiple-Linear-Dataset.csv\")\n",
    "dataset.head()"
   ]
  },
  {
   "cell_type": "code",
   "execution_count": 3,
   "id": "2ac216f8",
   "metadata": {},
   "outputs": [
    {
     "data": {
      "text/plain": [
       "array([[165349.2, 136897.8, 471784.1, 'City_1'],\n",
       "       [162597.7, 151377.59, 443898.53, 'City_2'],\n",
       "       [153441.51, 101145.55, 407934.54, 'City_3'],\n",
       "       [144372.41, 118671.85, 383199.62, 'City_1'],\n",
       "       [142107.34, 91391.77, 366168.42, 'City_3'],\n",
       "       [131876.9, 99814.71, 362861.36, 'City_1'],\n",
       "       [134615.46, 147198.87, 127716.82, 'City_2'],\n",
       "       [130298.13, 145530.06, 323876.68, 'City_3'],\n",
       "       [120542.52, 148718.95, 311613.29, 'City_1'],\n",
       "       [123334.88, 108679.17, 304981.62, 'City_2'],\n",
       "       [101913.08, 110594.11, 229160.95, 'City_3'],\n",
       "       [100671.96, 91790.61, 249744.55, 'City_2'],\n",
       "       [93863.75, 127320.38, 249839.44, 'City_3'],\n",
       "       [91992.39, 135495.07, 252664.93, 'City_2'],\n",
       "       [119943.24, 156547.42, 256512.92, 'City_3'],\n",
       "       [114523.61, 122616.84, 261776.23, 'City_1'],\n",
       "       [78013.11, 121597.55, 264346.06, 'City_2'],\n",
       "       [94657.16, 145077.58, 282574.31, 'City_1'],\n",
       "       [91749.16, 114175.79, 294919.57, 'City_3'],\n",
       "       [86419.7, 153514.11, 0.0, 'City_1'],\n",
       "       [76253.86, 113867.3, 298664.47, 'City_2'],\n",
       "       [78389.47, 153773.43, 299737.29, 'City_1'],\n",
       "       [73994.56, 122782.75, 303319.26, 'City_3'],\n",
       "       [67532.53, 105751.03, 304768.73, 'City_3'],\n",
       "       [77044.01, 99281.34, 140574.81, 'City_1'],\n",
       "       [64664.71, 139553.16, 137962.62, 'City_2'],\n",
       "       [75328.87, 144135.98, 134050.07, 'City_3'],\n",
       "       [72107.6, 127864.55, 353183.81, 'City_1'],\n",
       "       [66051.52, 182645.56, 118148.2, 'City_3'],\n",
       "       [65605.48, 153032.06, 107138.38, 'City_1'],\n",
       "       [61994.48, 115641.28, 91131.24, 'City_3'],\n",
       "       [61136.38, 152701.92, 88218.23, 'City_1'],\n",
       "       [63408.86, 129219.61, 46085.25, 'City_2'],\n",
       "       [55493.95, 103057.49, 214634.81, 'City_3'],\n",
       "       [46426.07, 157693.92, 210797.67, 'City_2'],\n",
       "       [46014.02, 85047.44, 205517.64, 'City_1'],\n",
       "       [28663.76, 127056.21, 201126.82, 'City_3'],\n",
       "       [44069.95, 51283.14, 197029.42, 'City_2'],\n",
       "       [20229.59, 65947.93, 185265.1, 'City_1'],\n",
       "       [38558.51, 82982.09, 174999.3, 'City_2'],\n",
       "       [28754.33, 118546.05, 172795.67, 'City_2'],\n",
       "       [27892.92, 84710.77, 164470.71, 'City_3'],\n",
       "       [23640.93, 96189.63, 148001.11, 'City_2'],\n",
       "       [15505.73, 127382.3, 35534.17, 'City_1'],\n",
       "       [22177.74, 154806.14, 28334.72, 'City_2'],\n",
       "       [1000.23, 124153.04, 1903.93, 'City_1'],\n",
       "       [1315.46, 115816.21, 297114.46, 'City_3'],\n",
       "       [0.0, 135426.92, 0.0, 'City_2'],\n",
       "       [542.05, 51743.15, 0.0, 'City_1'],\n",
       "       [0.0, 116983.8, 45173.06, 'City_2']], dtype=object)"
      ]
     },
     "execution_count": 3,
     "metadata": {},
     "output_type": "execute_result"
    }
   ],
   "source": [
    "X = dataset.iloc[:, :-1].values\n",
    "y = dataset.iloc[:, 4].values\n",
    "X"
   ]
  },
  {
   "cell_type": "code",
   "execution_count": 4,
   "id": "92bba20c",
   "metadata": {},
   "outputs": [
    {
     "data": {
      "text/plain": [
       "array([192261.83, 191792.06, 191050.39, 182901.99, 166187.94, 156991.12,\n",
       "       156122.51, 155752.6 , 152211.77, 149759.96, 146121.95, 144259.4 ,\n",
       "       141585.52, 134307.35, 132602.65, 129917.04, 126992.93, 125370.37,\n",
       "       124266.9 , 122776.86, 118474.03, 111313.02, 110352.25, 108733.99,\n",
       "       108552.04, 107404.34, 105733.54, 105008.31, 103282.38, 101004.64,\n",
       "        99937.59,  97483.56,  97427.84,  96778.92,  96712.8 ,  96479.51,\n",
       "        90708.19,  89949.14,  81229.06,  81005.76,  78239.91,  77798.83,\n",
       "        71498.49,  69758.98,  65200.33,  64926.08,  49490.75,  42559.73,\n",
       "        35673.41,  14681.4 ])"
      ]
     },
     "execution_count": 4,
     "metadata": {},
     "output_type": "execute_result"
    }
   ],
   "source": [
    "y"
   ]
  },
  {
   "cell_type": "code",
   "execution_count": 5,
   "id": "982901ba",
   "metadata": {},
   "outputs": [
    {
     "name": "stdout",
     "output_type": "stream",
     "text": [
      "[[165349.2 136897.8 471784.1 0]\n",
      " [162597.7 151377.59 443898.53 1]\n",
      " [153441.51 101145.55 407934.54 2]\n",
      " [144372.41 118671.85 383199.62 0]\n",
      " [142107.34 91391.77 366168.42 2]\n",
      " [131876.9 99814.71 362861.36 0]\n",
      " [134615.46 147198.87 127716.82 1]\n",
      " [130298.13 145530.06 323876.68 2]\n",
      " [120542.52 148718.95 311613.29 0]\n",
      " [123334.88 108679.17 304981.62 1]\n",
      " [101913.08 110594.11 229160.95 2]\n",
      " [100671.96 91790.61 249744.55 1]\n",
      " [93863.75 127320.38 249839.44 2]\n",
      " [91992.39 135495.07 252664.93 1]\n",
      " [119943.24 156547.42 256512.92 2]\n",
      " [114523.61 122616.84 261776.23 0]\n",
      " [78013.11 121597.55 264346.06 1]\n",
      " [94657.16 145077.58 282574.31 0]\n",
      " [91749.16 114175.79 294919.57 2]\n",
      " [86419.7 153514.11 0.0 0]\n",
      " [76253.86 113867.3 298664.47 1]\n",
      " [78389.47 153773.43 299737.29 0]\n",
      " [73994.56 122782.75 303319.26 2]\n",
      " [67532.53 105751.03 304768.73 2]\n",
      " [77044.01 99281.34 140574.81 0]\n",
      " [64664.71 139553.16 137962.62 1]\n",
      " [75328.87 144135.98 134050.07 2]\n",
      " [72107.6 127864.55 353183.81 0]\n",
      " [66051.52 182645.56 118148.2 2]\n",
      " [65605.48 153032.06 107138.38 0]\n",
      " [61994.48 115641.28 91131.24 2]\n",
      " [61136.38 152701.92 88218.23 0]\n",
      " [63408.86 129219.61 46085.25 1]\n",
      " [55493.95 103057.49 214634.81 2]\n",
      " [46426.07 157693.92 210797.67 1]\n",
      " [46014.02 85047.44 205517.64 0]\n",
      " [28663.76 127056.21 201126.82 2]\n",
      " [44069.95 51283.14 197029.42 1]\n",
      " [20229.59 65947.93 185265.1 0]\n",
      " [38558.51 82982.09 174999.3 1]\n",
      " [28754.33 118546.05 172795.67 1]\n",
      " [27892.92 84710.77 164470.71 2]\n",
      " [23640.93 96189.63 148001.11 1]\n",
      " [15505.73 127382.3 35534.17 0]\n",
      " [22177.74 154806.14 28334.72 1]\n",
      " [1000.23 124153.04 1903.93 0]\n",
      " [1315.46 115816.21 297114.46 2]\n",
      " [0.0 135426.92 0.0 1]\n",
      " [542.05 51743.15 0.0 0]\n",
      " [0.0 116983.8 45173.06 1]]\n"
     ]
    }
   ],
   "source": [
    "from sklearn.preprocessing import LabelEncoder, OneHotEncoder\n",
    "labelencoder_X = LabelEncoder()\n",
    "X[:, 3] = labelencoder_X.fit_transform(X[:, 3])\n",
    "print(X)"
   ]
  },
  {
   "cell_type": "code",
   "execution_count": 6,
   "id": "76c3ae3b",
   "metadata": {},
   "outputs": [
    {
     "name": "stdout",
     "output_type": "stream",
     "text": [
      "[[0. 0. 0. ... 1. 0. 0.]\n",
      " [0. 0. 0. ... 0. 1. 0.]\n",
      " [0. 0. 0. ... 0. 0. 1.]\n",
      " ...\n",
      " [1. 0. 0. ... 0. 1. 0.]\n",
      " [0. 1. 0. ... 1. 0. 0.]\n",
      " [1. 0. 0. ... 0. 1. 0.]]\n"
     ]
    }
   ],
   "source": [
    "onehotencoder = OneHotEncoder()\n",
    "X = onehotencoder.fit_transform(X).toarray()\n",
    "print(X)"
   ]
  },
  {
   "cell_type": "code",
   "execution_count": 7,
   "id": "e5719f44",
   "metadata": {},
   "outputs": [],
   "source": [
    "# Avoiding the Dummy Variable Trap\n",
    "X = X[:, 1:]"
   ]
  },
  {
   "cell_type": "code",
   "execution_count": 8,
   "id": "5ad69d94",
   "metadata": {},
   "outputs": [],
   "source": [
    "from sklearn.model_selection import train_test_split\n",
    "X_train, X_test, y_train, y_test = train_test_split(X, y, test_size=0.2, random_state=0)"
   ]
  },
  {
   "cell_type": "code",
   "execution_count": 9,
   "id": "4e5a57ad",
   "metadata": {},
   "outputs": [
    {
     "data": {
      "text/html": [
       "<style>#sk-container-id-1 {color: black;background-color: white;}#sk-container-id-1 pre{padding: 0;}#sk-container-id-1 div.sk-toggleable {background-color: white;}#sk-container-id-1 label.sk-toggleable__label {cursor: pointer;display: block;width: 100%;margin-bottom: 0;padding: 0.3em;box-sizing: border-box;text-align: center;}#sk-container-id-1 label.sk-toggleable__label-arrow:before {content: \"▸\";float: left;margin-right: 0.25em;color: #696969;}#sk-container-id-1 label.sk-toggleable__label-arrow:hover:before {color: black;}#sk-container-id-1 div.sk-estimator:hover label.sk-toggleable__label-arrow:before {color: black;}#sk-container-id-1 div.sk-toggleable__content {max-height: 0;max-width: 0;overflow: hidden;text-align: left;background-color: #f0f8ff;}#sk-container-id-1 div.sk-toggleable__content pre {margin: 0.2em;color: black;border-radius: 0.25em;background-color: #f0f8ff;}#sk-container-id-1 input.sk-toggleable__control:checked~div.sk-toggleable__content {max-height: 200px;max-width: 100%;overflow: auto;}#sk-container-id-1 input.sk-toggleable__control:checked~label.sk-toggleable__label-arrow:before {content: \"▾\";}#sk-container-id-1 div.sk-estimator input.sk-toggleable__control:checked~label.sk-toggleable__label {background-color: #d4ebff;}#sk-container-id-1 div.sk-label input.sk-toggleable__control:checked~label.sk-toggleable__label {background-color: #d4ebff;}#sk-container-id-1 input.sk-hidden--visually {border: 0;clip: rect(1px 1px 1px 1px);clip: rect(1px, 1px, 1px, 1px);height: 1px;margin: -1px;overflow: hidden;padding: 0;position: absolute;width: 1px;}#sk-container-id-1 div.sk-estimator {font-family: monospace;background-color: #f0f8ff;border: 1px dotted black;border-radius: 0.25em;box-sizing: border-box;margin-bottom: 0.5em;}#sk-container-id-1 div.sk-estimator:hover {background-color: #d4ebff;}#sk-container-id-1 div.sk-parallel-item::after {content: \"\";width: 100%;border-bottom: 1px solid gray;flex-grow: 1;}#sk-container-id-1 div.sk-label:hover label.sk-toggleable__label {background-color: #d4ebff;}#sk-container-id-1 div.sk-serial::before {content: \"\";position: absolute;border-left: 1px solid gray;box-sizing: border-box;top: 0;bottom: 0;left: 50%;z-index: 0;}#sk-container-id-1 div.sk-serial {display: flex;flex-direction: column;align-items: center;background-color: white;padding-right: 0.2em;padding-left: 0.2em;position: relative;}#sk-container-id-1 div.sk-item {position: relative;z-index: 1;}#sk-container-id-1 div.sk-parallel {display: flex;align-items: stretch;justify-content: center;background-color: white;position: relative;}#sk-container-id-1 div.sk-item::before, #sk-container-id-1 div.sk-parallel-item::before {content: \"\";position: absolute;border-left: 1px solid gray;box-sizing: border-box;top: 0;bottom: 0;left: 50%;z-index: -1;}#sk-container-id-1 div.sk-parallel-item {display: flex;flex-direction: column;z-index: 1;position: relative;background-color: white;}#sk-container-id-1 div.sk-parallel-item:first-child::after {align-self: flex-end;width: 50%;}#sk-container-id-1 div.sk-parallel-item:last-child::after {align-self: flex-start;width: 50%;}#sk-container-id-1 div.sk-parallel-item:only-child::after {width: 0;}#sk-container-id-1 div.sk-dashed-wrapped {border: 1px dashed gray;margin: 0 0.4em 0.5em 0.4em;box-sizing: border-box;padding-bottom: 0.4em;background-color: white;}#sk-container-id-1 div.sk-label label {font-family: monospace;font-weight: bold;display: inline-block;line-height: 1.2em;}#sk-container-id-1 div.sk-label-container {text-align: center;}#sk-container-id-1 div.sk-container {/* jupyter's `normalize.less` sets `[hidden] { display: none; }` but bootstrap.min.css set `[hidden] { display: none !important; }` so we also need the `!important` here to be able to override the default hidden behavior on the sphinx rendered scikit-learn.org. See: https://github.com/scikit-learn/scikit-learn/issues/21755 */display: inline-block !important;position: relative;}#sk-container-id-1 div.sk-text-repr-fallback {display: none;}</style><div id=\"sk-container-id-1\" class=\"sk-top-container\"><div class=\"sk-text-repr-fallback\"><pre>LinearRegression()</pre><b>In a Jupyter environment, please rerun this cell to show the HTML representation or trust the notebook. <br />On GitHub, the HTML representation is unable to render, please try loading this page with nbviewer.org.</b></div><div class=\"sk-container\" hidden><div class=\"sk-item\"><div class=\"sk-estimator sk-toggleable\"><input class=\"sk-toggleable__control sk-hidden--visually\" id=\"sk-estimator-id-1\" type=\"checkbox\" checked><label for=\"sk-estimator-id-1\" class=\"sk-toggleable__label sk-toggleable__label-arrow\">LinearRegression</label><div class=\"sk-toggleable__content\"><pre>LinearRegression()</pre></div></div></div></div></div>"
      ],
      "text/plain": [
       "LinearRegression()"
      ]
     },
     "execution_count": 9,
     "metadata": {},
     "output_type": "execute_result"
    }
   ],
   "source": [
    "from sklearn.linear_model import LinearRegression\n",
    "regressor = LinearRegression()\n",
    "regressor.fit(X_train, y_train)"
   ]
  },
  {
   "cell_type": "code",
   "execution_count": 10,
   "id": "8b63b485",
   "metadata": {},
   "outputs": [],
   "source": [
    "y_pred = regressor.predict(X_test)"
   ]
  },
  {
   "cell_type": "code",
   "execution_count": 11,
   "id": "d5ed6af2",
   "metadata": {},
   "outputs": [
    {
     "data": {
      "text/html": [
       "<table class=\"simpletable\">\n",
       "<caption>OLS Regression Results</caption>\n",
       "<tr>\n",
       "  <th>Dep. Variable:</th>            <td>y</td>        <th>  R-squared:         </th> <td>   0.050</td>\n",
       "</tr>\n",
       "<tr>\n",
       "  <th>Model:</th>                   <td>OLS</td>       <th>  Adj. R-squared:    </th> <td>   0.030</td>\n",
       "</tr>\n",
       "<tr>\n",
       "  <th>Method:</th>             <td>Least Squares</td>  <th>  F-statistic:       </th> <td>   2.532</td>\n",
       "</tr>\n",
       "<tr>\n",
       "  <th>Date:</th>             <td>Wed, 14 Jun 2023</td> <th>  Prob (F-statistic):</th>  <td> 0.118</td> \n",
       "</tr>\n",
       "<tr>\n",
       "  <th>Time:</th>                 <td>15:49:01</td>     <th>  Log-Likelihood:    </th> <td> -599.37</td>\n",
       "</tr>\n",
       "<tr>\n",
       "  <th>No. Observations:</th>      <td>    50</td>      <th>  AIC:               </th> <td>   1203.</td>\n",
       "</tr>\n",
       "<tr>\n",
       "  <th>Df Residuals:</th>          <td>    48</td>      <th>  BIC:               </th> <td>   1207.</td>\n",
       "</tr>\n",
       "<tr>\n",
       "  <th>Df Model:</th>              <td>     1</td>      <th>                     </th>     <td> </td>   \n",
       "</tr>\n",
       "<tr>\n",
       "  <th>Covariance Type:</th>      <td>nonrobust</td>    <th>                     </th>     <td> </td>   \n",
       "</tr>\n",
       "</table>\n",
       "<table class=\"simpletable\">\n",
       "<tr>\n",
       "    <td></td>       <th>coef</th>     <th>std err</th>      <th>t</th>      <th>P>|t|</th>  <th>[0.025</th>    <th>0.975]</th>  \n",
       "</tr>\n",
       "<tr>\n",
       "  <th>const</th> <td> 1.133e+05</td> <td> 5670.069</td> <td>   19.980</td> <td> 0.000</td> <td> 1.02e+05</td> <td> 1.25e+05</td>\n",
       "</tr>\n",
       "<tr>\n",
       "  <th>x1</th>    <td> -6.38e+04</td> <td> 4.01e+04</td> <td>   -1.591</td> <td> 0.118</td> <td>-1.44e+05</td> <td> 1.68e+04</td>\n",
       "</tr>\n",
       "</table>\n",
       "<table class=\"simpletable\">\n",
       "<tr>\n",
       "  <th>Omnibus:</th>       <td> 0.164</td> <th>  Durbin-Watson:     </th> <td>   0.114</td>\n",
       "</tr>\n",
       "<tr>\n",
       "  <th>Prob(Omnibus):</th> <td> 0.921</td> <th>  Jarque-Bera (JB):  </th> <td>   0.001</td>\n",
       "</tr>\n",
       "<tr>\n",
       "  <th>Skew:</th>          <td> 0.009</td> <th>  Prob(JB):          </th> <td>    1.00</td>\n",
       "</tr>\n",
       "<tr>\n",
       "  <th>Kurtosis:</th>      <td> 2.989</td> <th>  Cond. No.          </th> <td>    7.15</td>\n",
       "</tr>\n",
       "</table><br/><br/>Notes:<br/>[1] Standard Errors assume that the covariance matrix of the errors is correctly specified."
      ],
      "text/latex": [
       "\\begin{center}\n",
       "\\begin{tabular}{lclc}\n",
       "\\toprule\n",
       "\\textbf{Dep. Variable:}    &        y         & \\textbf{  R-squared:         } &     0.050   \\\\\n",
       "\\textbf{Model:}            &       OLS        & \\textbf{  Adj. R-squared:    } &     0.030   \\\\\n",
       "\\textbf{Method:}           &  Least Squares   & \\textbf{  F-statistic:       } &     2.532   \\\\\n",
       "\\textbf{Date:}             & Wed, 14 Jun 2023 & \\textbf{  Prob (F-statistic):} &    0.118    \\\\\n",
       "\\textbf{Time:}             &     15:49:01     & \\textbf{  Log-Likelihood:    } &   -599.37   \\\\\n",
       "\\textbf{No. Observations:} &          50      & \\textbf{  AIC:               } &     1203.   \\\\\n",
       "\\textbf{Df Residuals:}     &          48      & \\textbf{  BIC:               } &     1207.   \\\\\n",
       "\\textbf{Df Model:}         &           1      & \\textbf{                     } &             \\\\\n",
       "\\textbf{Covariance Type:}  &    nonrobust     & \\textbf{                     } &             \\\\\n",
       "\\bottomrule\n",
       "\\end{tabular}\n",
       "\\begin{tabular}{lcccccc}\n",
       "               & \\textbf{coef} & \\textbf{std err} & \\textbf{t} & \\textbf{P$> |$t$|$} & \\textbf{[0.025} & \\textbf{0.975]}  \\\\\n",
       "\\midrule\n",
       "\\textbf{const} &    1.133e+05  &     5670.069     &    19.980  &         0.000        &     1.02e+05    &     1.25e+05     \\\\\n",
       "\\textbf{x1}    &    -6.38e+04  &     4.01e+04     &    -1.591  &         0.118        &    -1.44e+05    &     1.68e+04     \\\\\n",
       "\\bottomrule\n",
       "\\end{tabular}\n",
       "\\begin{tabular}{lclc}\n",
       "\\textbf{Omnibus:}       &  0.164 & \\textbf{  Durbin-Watson:     } &    0.114  \\\\\n",
       "\\textbf{Prob(Omnibus):} &  0.921 & \\textbf{  Jarque-Bera (JB):  } &    0.001  \\\\\n",
       "\\textbf{Skew:}          &  0.009 & \\textbf{  Prob(JB):          } &     1.00  \\\\\n",
       "\\textbf{Kurtosis:}      &  2.989 & \\textbf{  Cond. No.          } &     7.15  \\\\\n",
       "\\bottomrule\n",
       "\\end{tabular}\n",
       "%\\caption{OLS Regression Results}\n",
       "\\end{center}\n",
       "\n",
       "Notes: \\newline\n",
       " [1] Standard Errors assume that the covariance matrix of the errors is correctly specified."
      ],
      "text/plain": [
       "<class 'statsmodels.iolib.summary.Summary'>\n",
       "\"\"\"\n",
       "                            OLS Regression Results                            \n",
       "==============================================================================\n",
       "Dep. Variable:                      y   R-squared:                       0.050\n",
       "Model:                            OLS   Adj. R-squared:                  0.030\n",
       "Method:                 Least Squares   F-statistic:                     2.532\n",
       "Date:                Wed, 14 Jun 2023   Prob (F-statistic):              0.118\n",
       "Time:                        15:49:01   Log-Likelihood:                -599.37\n",
       "No. Observations:                  50   AIC:                             1203.\n",
       "Df Residuals:                      48   BIC:                             1207.\n",
       "Df Model:                           1                                         \n",
       "Covariance Type:            nonrobust                                         \n",
       "==============================================================================\n",
       "                 coef    std err          t      P>|t|      [0.025      0.975]\n",
       "------------------------------------------------------------------------------\n",
       "const       1.133e+05   5670.069     19.980      0.000    1.02e+05    1.25e+05\n",
       "x1          -6.38e+04   4.01e+04     -1.591      0.118   -1.44e+05    1.68e+04\n",
       "==============================================================================\n",
       "Omnibus:                        0.164   Durbin-Watson:                   0.114\n",
       "Prob(Omnibus):                  0.921   Jarque-Bera (JB):                0.001\n",
       "Skew:                           0.009   Prob(JB):                         1.00\n",
       "Kurtosis:                       2.989   Cond. No.                         7.15\n",
       "==============================================================================\n",
       "\n",
       "Notes:\n",
       "[1] Standard Errors assume that the covariance matrix of the errors is correctly specified.\n",
       "\"\"\""
      ]
     },
     "execution_count": 11,
     "metadata": {},
     "output_type": "execute_result"
    }
   ],
   "source": [
    "# Building the optimal model using Backward Elimination\n",
    "import statsmodels.api as sm\n",
    "X = np.append(arr=np.ones((50, 1)).astype(int), values=X, axis=1)\n",
    "X_opt = X[:, [0, 1, 2, 3, 4, 5]]\n",
    "regressor_OLS = sm.OLS(endog=y, exog=X_opt).fit()\n",
    "regressor_OLS.summary()\n",
    "X_opt = X[:, [0, 1, 3, 4, 5]]\n",
    "regressor_OLS = sm.OLS(endog=y, exog=X_opt).fit()\n",
    "regressor_OLS.summary()\n",
    "X_opt = X[:, [0, 3, 4, 5]]\n",
    "regressor_OLS = sm.OLS(endog=y, exog=X_opt).fit()\n",
    "regressor_OLS.summary()\n",
    "X_opt = X[:, [0, 3, 5]]\n",
    "regressor_OLS = sm.OLS(endog=y, exog=X_opt).fit()\n",
    "regressor_OLS.summary()\n",
    "X_opt = X[:, [0, 3]]\n",
    "regressor_OLS = sm.OLS(endog=y, exog=X_opt).fit()\n",
    "regressor_OLS.summary()"
   ]
  },
  {
   "cell_type": "code",
   "execution_count": null,
   "id": "efea22ad",
   "metadata": {},
   "outputs": [],
   "source": []
  },
  {
   "cell_type": "code",
   "execution_count": null,
   "id": "d7e454ca",
   "metadata": {},
   "outputs": [],
   "source": []
  },
  {
   "cell_type": "code",
   "execution_count": null,
   "id": "fc6e6d07",
   "metadata": {},
   "outputs": [],
   "source": []
  }
 ],
 "metadata": {
  "kernelspec": {
   "display_name": "Python 3 (ipykernel)",
   "language": "python",
   "name": "python3"
  },
  "language_info": {
   "codemirror_mode": {
    "name": "ipython",
    "version": 3
   },
   "file_extension": ".py",
   "mimetype": "text/x-python",
   "name": "python",
   "nbconvert_exporter": "python",
   "pygments_lexer": "ipython3",
   "version": "3.8.2"
  }
 },
 "nbformat": 4,
 "nbformat_minor": 5
}
