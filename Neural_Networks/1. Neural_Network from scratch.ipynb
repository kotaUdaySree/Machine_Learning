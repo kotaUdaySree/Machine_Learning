{
 "cells": [
  {
   "cell_type": "markdown",
   "id": "6da59c4c",
   "metadata": {
    "id": "6da59c4c"
   },
   "source": [
    "### Activation Function"
   ]
  },
  {
   "cell_type": "code",
   "execution_count": 1,
   "id": "64ff74ff",
   "metadata": {
    "executionInfo": {
     "elapsed": 204,
     "status": "ok",
     "timestamp": 1678661161068,
     "user": {
      "displayName": "Mounika Avutu",
      "userId": "04641209210730551022"
     },
     "user_tz": 300
    },
    "id": "64ff74ff"
   },
   "outputs": [],
   "source": [
    "import numpy as np\n",
    "import pandas as pd"
   ]
  },
  {
   "cell_type": "code",
   "execution_count": 2,
   "id": "e7445c19",
   "metadata": {
    "executionInfo": {
     "elapsed": 215,
     "status": "ok",
     "timestamp": 1678661163435,
     "user": {
      "displayName": "Mounika Avutu",
      "userId": "04641209210730551022"
     },
     "user_tz": 300
    },
    "id": "e7445c19"
   },
   "outputs": [],
   "source": [
    "def sigmoid(z):\n",
    "    return 1.0/(1+np.exp(-z))\n",
    "def sigmoid_derivative(z):\n",
    "    return sigmoid(z)*(1.0-sigmoid(z))"
   ]
  },
  {
   "cell_type": "markdown",
   "id": "cdc11a11",
   "metadata": {
    "id": "cdc11a11"
   },
   "source": [
    "### Building a Neural Network from scratch"
   ]
  },
  {
   "cell_type": "code",
   "execution_count": 3,
   "id": "763baa52",
   "metadata": {
    "executionInfo": {
     "elapsed": 128,
     "status": "ok",
     "timestamp": 1678661216256,
     "user": {
      "displayName": "Mounika Avutu",
      "userId": "04641209210730551022"
     },
     "user_tz": 300
    },
    "id": "763baa52"
   },
   "outputs": [],
   "source": [
    "def train(X, y, n_hidden, learning_rate, n_iter):\n",
    "    m, n_input = X.shape\n",
    "    W1 = np.random.randn(n_input, n_hidden)\n",
    "    b1 = np.zeros((1,n_hidden))\n",
    "    W2 = np.random.randn(n_hidden, 1)\n",
    "    b2 = np.zeros ((1, 1))\n",
    "    for i in range(1, n_iter+1):\n",
    "        Z2 = np.matmul(X, W1) + b1\n",
    "        A2 = sigmoid(Z2)\n",
    "        Z3 = np.matmul(A2, W2) + b2\n",
    "        A3 = Z3\n",
    "        dZ3 = A3-y\n",
    "        dW2 = np.matmul(A2.T, dZ3)\n",
    "        db2 = np.sum(dZ3, axis=0, keepdims=True)\n",
    "        dZ2 = np.matmul(dZ3, W2.T) * sigmoid_derivative(Z2)\n",
    "        dW1 = np.matmul(X.T, dZ2)\n",
    "        db1 = np.sum(dZ2, axis=0)\n",
    "        W2 = W2 - learning_rate * dW2 / m\n",
    "        b2 = b2 - learning_rate * db2 / m\n",
    "        W1 = W1 - learning_rate * dW1 / m\n",
    "        b1 = b1 - learning_rate * db1 / m\n",
    "        if i % 100 == 0:\n",
    "            cost = np.mean((y - A3) ** 2)\n",
    "            print('Iteration %i, training loss: %f' %(i, cost))\n",
    "    model = {'W1': W1, 'b1': b1, 'W2': W2, 'b2': b2}\n",
    "    return model"
   ]
  },
  {
   "cell_type": "markdown",
   "id": "53d39eda",
   "metadata": {
    "id": "53d39eda"
   },
   "source": [
    "### Reading the dataset"
   ]
  },
  {
   "cell_type": "code",
   "execution_count": 4,
   "id": "204303ff",
   "metadata": {
    "colab": {
     "base_uri": "https://localhost:8080/",
     "height": 455
    },
    "executionInfo": {
     "elapsed": 147,
     "status": "ok",
     "timestamp": 1678661291341,
     "user": {
      "displayName": "Mounika Avutu",
      "userId": "04641209210730551022"
     },
     "user_tz": 300
    },
    "id": "204303ff",
    "outputId": "8bbdfd6e-fbe6-460b-d0b5-5a7d7a3af1b9"
   },
   "outputs": [
    {
     "data": {
      "text/html": [
       "<div>\n",
       "<style scoped>\n",
       "    .dataframe tbody tr th:only-of-type {\n",
       "        vertical-align: middle;\n",
       "    }\n",
       "\n",
       "    .dataframe tbody tr th {\n",
       "        vertical-align: top;\n",
       "    }\n",
       "\n",
       "    .dataframe thead th {\n",
       "        text-align: right;\n",
       "    }\n",
       "</style>\n",
       "<table border=\"1\" class=\"dataframe\">\n",
       "  <thead>\n",
       "    <tr style=\"text-align: right;\">\n",
       "      <th></th>\n",
       "      <th>Open</th>\n",
       "      <th>High</th>\n",
       "      <th>Low</th>\n",
       "      <th>Close</th>\n",
       "      <th>Volume</th>\n",
       "    </tr>\n",
       "    <tr>\n",
       "      <th>Date</th>\n",
       "      <th></th>\n",
       "      <th></th>\n",
       "      <th></th>\n",
       "      <th></th>\n",
       "      <th></th>\n",
       "    </tr>\n",
       "  </thead>\n",
       "  <tbody>\n",
       "    <tr>\n",
       "      <th>1988-01-04</th>\n",
       "      <td>1950.80</td>\n",
       "      <td>2030.00</td>\n",
       "      <td>1950.80</td>\n",
       "      <td>2015.30</td>\n",
       "      <td>20877900</td>\n",
       "    </tr>\n",
       "    <tr>\n",
       "      <th>1988-01-05</th>\n",
       "      <td>2021.40</td>\n",
       "      <td>2075.30</td>\n",
       "      <td>2021.40</td>\n",
       "      <td>2031.50</td>\n",
       "      <td>27195361</td>\n",
       "    </tr>\n",
       "    <tr>\n",
       "      <th>1988-01-06</th>\n",
       "      <td>2031.50</td>\n",
       "      <td>2058.20</td>\n",
       "      <td>2012.80</td>\n",
       "      <td>2037.80</td>\n",
       "      <td>18790681</td>\n",
       "    </tr>\n",
       "    <tr>\n",
       "      <th>1988-01-07</th>\n",
       "      <td>2037.80</td>\n",
       "      <td>2061.50</td>\n",
       "      <td>2004.60</td>\n",
       "      <td>2051.90</td>\n",
       "      <td>21377283</td>\n",
       "    </tr>\n",
       "    <tr>\n",
       "      <th>1988-01-08</th>\n",
       "      <td>2051.90</td>\n",
       "      <td>2058.70</td>\n",
       "      <td>1898.00</td>\n",
       "      <td>1911.30</td>\n",
       "      <td>27445517</td>\n",
       "    </tr>\n",
       "    <tr>\n",
       "      <th>...</th>\n",
       "      <td>...</td>\n",
       "      <td>...</td>\n",
       "      <td>...</td>\n",
       "      <td>...</td>\n",
       "      <td>...</td>\n",
       "    </tr>\n",
       "    <tr>\n",
       "      <th>2019-12-24</th>\n",
       "      <td>28572.57</td>\n",
       "      <td>28576.80</td>\n",
       "      <td>28503.21</td>\n",
       "      <td>28515.45</td>\n",
       "      <td>86151979</td>\n",
       "    </tr>\n",
       "    <tr>\n",
       "      <th>2019-12-26</th>\n",
       "      <td>28539.46</td>\n",
       "      <td>28624.10</td>\n",
       "      <td>28535.15</td>\n",
       "      <td>28621.39</td>\n",
       "      <td>156025977</td>\n",
       "    </tr>\n",
       "    <tr>\n",
       "      <th>2019-12-27</th>\n",
       "      <td>28675.34</td>\n",
       "      <td>28701.66</td>\n",
       "      <td>28608.98</td>\n",
       "      <td>28645.26</td>\n",
       "      <td>182181663</td>\n",
       "    </tr>\n",
       "    <tr>\n",
       "      <th>2019-12-30</th>\n",
       "      <td>28654.76</td>\n",
       "      <td>28664.69</td>\n",
       "      <td>28428.98</td>\n",
       "      <td>28462.14</td>\n",
       "      <td>181507192</td>\n",
       "    </tr>\n",
       "    <tr>\n",
       "      <th>2019-12-31</th>\n",
       "      <td>28414.64</td>\n",
       "      <td>28547.35</td>\n",
       "      <td>28376.49</td>\n",
       "      <td>28538.44</td>\n",
       "      <td>193336533</td>\n",
       "    </tr>\n",
       "  </tbody>\n",
       "</table>\n",
       "<p>8064 rows × 5 columns</p>\n",
       "</div>"
      ],
      "text/plain": [
       "                Open      High       Low     Close     Volume\n",
       "Date                                                         \n",
       "1988-01-04   1950.80   2030.00   1950.80   2015.30   20877900\n",
       "1988-01-05   2021.40   2075.30   2021.40   2031.50   27195361\n",
       "1988-01-06   2031.50   2058.20   2012.80   2037.80   18790681\n",
       "1988-01-07   2037.80   2061.50   2004.60   2051.90   21377283\n",
       "1988-01-08   2051.90   2058.70   1898.00   1911.30   27445517\n",
       "...              ...       ...       ...       ...        ...\n",
       "2019-12-24  28572.57  28576.80  28503.21  28515.45   86151979\n",
       "2019-12-26  28539.46  28624.10  28535.15  28621.39  156025977\n",
       "2019-12-27  28675.34  28701.66  28608.98  28645.26  182181663\n",
       "2019-12-30  28654.76  28664.69  28428.98  28462.14  181507192\n",
       "2019-12-31  28414.64  28547.35  28376.49  28538.44  193336533\n",
       "\n",
       "[8064 rows x 5 columns]"
      ]
     },
     "execution_count": 4,
     "metadata": {},
     "output_type": "execute_result"
    }
   ],
   "source": [
    "mydata = pd.read_csv(\"19880101_20191231.csv\", index_col='Date')\n",
    "mydata"
   ]
  },
  {
   "cell_type": "markdown",
   "id": "156f03dd",
   "metadata": {
    "id": "156f03dd"
   },
   "source": [
    "### Feature Generation"
   ]
  },
  {
   "cell_type": "code",
   "execution_count": 5,
   "id": "b4552cde",
   "metadata": {
    "executionInfo": {
     "elapsed": 112,
     "status": "ok",
     "timestamp": 1678661337763,
     "user": {
      "displayName": "Mounika Avutu",
      "userId": "04641209210730551022"
     },
     "user_tz": 300
    },
    "id": "b4552cde"
   },
   "outputs": [],
   "source": [
    "def add_original_feature(df, df_new):\n",
    "    df_new['open'] = df['Open']\n",
    "    df_new['open_1'] = df['Open'].shift(1)\n",
    "    df_new['close 1'] = df['Close'].shift(1)\n",
    "    df_new['high_1'] = df['High'].shift(1)\n",
    "    df_new['low 1'] = df['Low'].shift(1)\n",
    "    df_new['volume 1'] = df['Volume'].shift(1)"
   ]
  },
  {
   "cell_type": "code",
   "execution_count": 6,
   "id": "f505c6c3",
   "metadata": {
    "executionInfo": {
     "elapsed": 175,
     "status": "ok",
     "timestamp": 1678661341334,
     "user": {
      "displayName": "Mounika Avutu",
      "userId": "04641209210730551022"
     },
     "user_tz": 300
    },
    "id": "f505c6c3"
   },
   "outputs": [],
   "source": [
    "def add_avg_price(df, df_new):\n",
    "    df_new['avg_price_5'] =df['Close'].rolling(5).mean().shift (1)\n",
    "    df_new['avg_price_30']=df['Close'].rolling(21).mean().shift (1)\n",
    "    df_new['avg_price_365']=df['Close'].rolling(252).mean().shift (1)\n",
    "    df_new['ratio_avg_price_5_30']=df_new['avg_price_5'] / df_new['avg_price_30']\n",
    "    df_new['ratio_avg_price_5_365']=df_new['avg_price_5'] / df_new['avg_price_365']\n",
    "    df_new['ratio_avg_price_30_365']=df_new['avg_price_30'] / df_new['avg_price_365']"
   ]
  },
  {
   "cell_type": "code",
   "execution_count": 7,
   "id": "0a22c77f",
   "metadata": {
    "executionInfo": {
     "elapsed": 149,
     "status": "ok",
     "timestamp": 1678661343847,
     "user": {
      "displayName": "Mounika Avutu",
      "userId": "04641209210730551022"
     },
     "user_tz": 300
    },
    "id": "0a22c77f"
   },
   "outputs": [],
   "source": [
    "def add_avg_volume (df, df_new):\n",
    "    df_new['avg_volume_5']=df['Volume'].rolling(5).mean().shift(1)\n",
    "    df_new['avg_volume_30']=df['Volume'].rolling(21).mean().shift(1)\n",
    "    df_new['avg_volume_365']=df['Volume'].rolling(252).mean().shift(1)\n",
    "    df_new['ratio_avg_volume_5_30']=df_new['avg_volume_5'] / df_new['avg_volume_30']\n",
    "    df_new['ratio_avg_volume_5_365'] =df_new['avg_volume_5'] / df_new['avg_volume_365']\n",
    "    df_new['ratio_avg_volume_30_365']=df_new['avg_volume_30'] / df_new['avg_volume_365']"
   ]
  },
  {
   "cell_type": "code",
   "execution_count": 8,
   "id": "9538bf7b",
   "metadata": {
    "executionInfo": {
     "elapsed": 142,
     "status": "ok",
     "timestamp": 1678661346386,
     "user": {
      "displayName": "Mounika Avutu",
      "userId": "04641209210730551022"
     },
     "user_tz": 300
    },
    "id": "9538bf7b"
   },
   "outputs": [],
   "source": [
    "def add_std_price(df, df_new):\n",
    "    df_new['std_price_5']=df['Close'].rolling(5).std().shift(1)\n",
    "    df_new['std_price_30']=df['Close'].rolling(21).std().shift(1)\n",
    "    df_new['std_price_365']=df['Close'].rolling(252).std().shift(1)\n",
    "    df_new['ratio_std_price_5_30'] =df_new['std_price_5'] / df_new['std_price_30']\n",
    "    df_new['ratio_std_price_5_365'] =df_new['std_price_5'] / df_new['std_price_365']\n",
    "    df_new['ratio_std_price_30_365'] =df_new['std_price_30'] / df_new['std_price_365']"
   ]
  },
  {
   "cell_type": "code",
   "execution_count": 9,
   "id": "df7cfd68",
   "metadata": {
    "executionInfo": {
     "elapsed": 5,
     "status": "ok",
     "timestamp": 1678661348859,
     "user": {
      "displayName": "Mounika Avutu",
      "userId": "04641209210730551022"
     },
     "user_tz": 300
    },
    "id": "df7cfd68"
   },
   "outputs": [],
   "source": [
    "def add_std_volume (df, df_new):\n",
    "    df_new['std_volume_5']=df['Volume'].rolling(5).std().shift (1)\n",
    "    df_new['std_volume_30']=df['Volume'].rolling(21).std().shift(1)\n",
    "    df_new['std_volume_365']=df['Volume'].rolling(252).std().shift(1)\n",
    "    df_new['ratio_std_volume_5_30']=df_new['std_volume_5'] /df_new['std_volume_30']\n",
    "    df_new['ratio_std_volume_5_365']=df_new['std_volume_5'] /df_new['std_volume_365']\n",
    "    df_new['ratio_std_volume_30_365']=df_new['std_volume_30'] /df_new['std_volume_365']"
   ]
  },
  {
   "cell_type": "code",
   "execution_count": 10,
   "id": "cc190cd2",
   "metadata": {
    "executionInfo": {
     "elapsed": 161,
     "status": "ok",
     "timestamp": 1678661351721,
     "user": {
      "displayName": "Mounika Avutu",
      "userId": "04641209210730551022"
     },
     "user_tz": 300
    },
    "id": "cc190cd2"
   },
   "outputs": [],
   "source": [
    "def add_return_feature(df, df_new):\n",
    "    df_new['return_1']=((df['Close']-df['Close'].shift (1))/ df['Close'].shift(1)).shift(1)\n",
    "    df_new['return_5']=((df['Close']-df['Close'].shift (5))/df['Close'].shift(5)).shift(1)\n",
    "    df_new['return_30']=((df['Close' ]-df['Close'].shift (21)) / df['Close'].shift(21)).shift(1)\n",
    "    df_new['return_365']=((df['Close']-df['Close'].shift (252)) / df['Close'].shift (252)).shift(1)\n",
    "    df_new['moving_avg_5']=df_new['return_1'].rolling(5).mean().shift(1)\n",
    "    df_new['moving_avg_30']=df_new['return_1'].rolling(21).mean().shift(1)\n",
    "    df_new['moving_avg_365']=df_new['return_1'].rolling(252).mean ().shift(1)"
   ]
  },
  {
   "cell_type": "code",
   "execution_count": 17,
   "id": "426bd500",
   "metadata": {
    "executionInfo": {
     "elapsed": 204,
     "status": "ok",
     "timestamp": 1678661358596,
     "user": {
      "displayName": "Mounika Avutu",
      "userId": "04641209210730551022"
     },
     "user_tz": 300
    },
    "id": "426bd500"
   },
   "outputs": [],
   "source": [
    "def generate_features(df):\n",
    "    df_new = pd.DataFrame()\n",
    "# 6 original features\n",
    "    add_original_feature(df, df_new)\n",
    "# 31 generated features\n",
    "    add_avg_price(df, df_new) \n",
    "    add_avg_volume (df, df_new) \n",
    "    add_std_price(df, df_new) \n",
    "    add_std_volume(df, df_new)\n",
    "    add_return_feature(df, df_new)\n",
    "# the target\n",
    "    df_new['close'] = df['Close']\n",
    "    df_new = df_new.dropna (axis=0)\n",
    "    return df_new"
   ]
  },
  {
   "cell_type": "code",
   "execution_count": 18,
   "id": "55221602",
   "metadata": {
    "colab": {
     "base_uri": "https://localhost:8080/",
     "height": 435
    },
    "executionInfo": {
     "elapsed": 143,
     "status": "ok",
     "timestamp": 1678661383149,
     "user": {
      "displayName": "Mounika Avutu",
      "userId": "04641209210730551022"
     },
     "user_tz": 300
    },
    "id": "55221602",
    "outputId": "ddd2681e-3c5c-48c5-8acf-aadd718885b5",
    "scrolled": true
   },
   "outputs": [
    {
     "data": {
      "text/html": [
       "<div>\n",
       "<style scoped>\n",
       "    .dataframe tbody tr th:only-of-type {\n",
       "        vertical-align: middle;\n",
       "    }\n",
       "\n",
       "    .dataframe tbody tr th {\n",
       "        vertical-align: top;\n",
       "    }\n",
       "\n",
       "    .dataframe thead th {\n",
       "        text-align: right;\n",
       "    }\n",
       "</style>\n",
       "<table border=\"1\" class=\"dataframe\">\n",
       "  <thead>\n",
       "    <tr style=\"text-align: right;\">\n",
       "      <th></th>\n",
       "      <th>open</th>\n",
       "      <th>open_1</th>\n",
       "      <th>close 1</th>\n",
       "      <th>high_1</th>\n",
       "      <th>low 1</th>\n",
       "      <th>volume 1</th>\n",
       "      <th>avg_price_5</th>\n",
       "      <th>avg_price_30</th>\n",
       "      <th>avg_price_365</th>\n",
       "      <th>ratio_avg_price_5_30</th>\n",
       "      <th>...</th>\n",
       "      <th>ratio_std_volume_5_365</th>\n",
       "      <th>ratio_std_volume_30_365</th>\n",
       "      <th>return_1</th>\n",
       "      <th>return_5</th>\n",
       "      <th>return_30</th>\n",
       "      <th>return_365</th>\n",
       "      <th>moving_avg_5</th>\n",
       "      <th>moving_avg_30</th>\n",
       "      <th>moving_avg_365</th>\n",
       "      <th>close</th>\n",
       "    </tr>\n",
       "    <tr>\n",
       "      <th>Date</th>\n",
       "      <th></th>\n",
       "      <th></th>\n",
       "      <th></th>\n",
       "      <th></th>\n",
       "      <th></th>\n",
       "      <th></th>\n",
       "      <th></th>\n",
       "      <th></th>\n",
       "      <th></th>\n",
       "      <th></th>\n",
       "      <th></th>\n",
       "      <th></th>\n",
       "      <th></th>\n",
       "      <th></th>\n",
       "      <th></th>\n",
       "      <th></th>\n",
       "      <th></th>\n",
       "      <th></th>\n",
       "      <th></th>\n",
       "      <th></th>\n",
       "      <th></th>\n",
       "    </tr>\n",
       "  </thead>\n",
       "  <tbody>\n",
       "    <tr>\n",
       "      <th>1989-01-04</th>\n",
       "      <td>2146.6</td>\n",
       "      <td>2168.4</td>\n",
       "      <td>2144.6</td>\n",
       "      <td>2168.4</td>\n",
       "      <td>2127.1</td>\n",
       "      <td>17302883.0</td>\n",
       "      <td>2165.00</td>\n",
       "      <td>2150.623810</td>\n",
       "      <td>2062.113095</td>\n",
       "      <td>1.006685</td>\n",
       "      <td>...</td>\n",
       "      <td>0.562543</td>\n",
       "      <td>0.722978</td>\n",
       "      <td>-0.011067</td>\n",
       "      <td>-0.011204</td>\n",
       "      <td>0.020315</td>\n",
       "      <td>0.055673</td>\n",
       "      <td>0.000770</td>\n",
       "      <td>0.001222</td>\n",
       "      <td>0.000354</td>\n",
       "      <td>2177.7</td>\n",
       "    </tr>\n",
       "    <tr>\n",
       "      <th>1989-01-05</th>\n",
       "      <td>2177.7</td>\n",
       "      <td>2146.6</td>\n",
       "      <td>2177.7</td>\n",
       "      <td>2183.4</td>\n",
       "      <td>2146.6</td>\n",
       "      <td>15714720.0</td>\n",
       "      <td>2168.00</td>\n",
       "      <td>2154.690476</td>\n",
       "      <td>2062.668254</td>\n",
       "      <td>1.006177</td>\n",
       "      <td>...</td>\n",
       "      <td>0.473516</td>\n",
       "      <td>0.723715</td>\n",
       "      <td>0.015434</td>\n",
       "      <td>0.006936</td>\n",
       "      <td>0.040816</td>\n",
       "      <td>0.068652</td>\n",
       "      <td>-0.002230</td>\n",
       "      <td>0.000979</td>\n",
       "      <td>0.000278</td>\n",
       "      <td>2190.5</td>\n",
       "    </tr>\n",
       "    <tr>\n",
       "      <th>1989-01-06</th>\n",
       "      <td>2190.5</td>\n",
       "      <td>2177.7</td>\n",
       "      <td>2190.5</td>\n",
       "      <td>2205.2</td>\n",
       "      <td>2173.0</td>\n",
       "      <td>20303094.0</td>\n",
       "      <td>2172.82</td>\n",
       "      <td>2157.866667</td>\n",
       "      <td>2063.218254</td>\n",
       "      <td>1.006930</td>\n",
       "      <td>...</td>\n",
       "      <td>0.579903</td>\n",
       "      <td>0.747630</td>\n",
       "      <td>0.005878</td>\n",
       "      <td>0.011124</td>\n",
       "      <td>0.031406</td>\n",
       "      <td>0.067547</td>\n",
       "      <td>0.001428</td>\n",
       "      <td>0.001931</td>\n",
       "      <td>0.000327</td>\n",
       "      <td>2194.3</td>\n",
       "    </tr>\n",
       "    <tr>\n",
       "      <th>1989-01-09</th>\n",
       "      <td>2194.3</td>\n",
       "      <td>2190.5</td>\n",
       "      <td>2194.3</td>\n",
       "      <td>2213.8</td>\n",
       "      <td>2182.3</td>\n",
       "      <td>16494441.0</td>\n",
       "      <td>2175.14</td>\n",
       "      <td>2160.004762</td>\n",
       "      <td>2064.341270</td>\n",
       "      <td>1.007007</td>\n",
       "      <td>...</td>\n",
       "      <td>0.515648</td>\n",
       "      <td>0.745619</td>\n",
       "      <td>0.001735</td>\n",
       "      <td>0.005315</td>\n",
       "      <td>0.020890</td>\n",
       "      <td>0.148067</td>\n",
       "      <td>0.002262</td>\n",
       "      <td>0.001494</td>\n",
       "      <td>0.000323</td>\n",
       "      <td>2199.5</td>\n",
       "    </tr>\n",
       "    <tr>\n",
       "      <th>1989-01-10</th>\n",
       "      <td>2199.5</td>\n",
       "      <td>2194.3</td>\n",
       "      <td>2199.5</td>\n",
       "      <td>2209.1</td>\n",
       "      <td>2185.0</td>\n",
       "      <td>18410324.0</td>\n",
       "      <td>2181.32</td>\n",
       "      <td>2162.190476</td>\n",
       "      <td>2065.350794</td>\n",
       "      <td>1.008847</td>\n",
       "      <td>...</td>\n",
       "      <td>0.278728</td>\n",
       "      <td>0.741686</td>\n",
       "      <td>0.002370</td>\n",
       "      <td>0.014249</td>\n",
       "      <td>0.021313</td>\n",
       "      <td>0.130790</td>\n",
       "      <td>0.001104</td>\n",
       "      <td>0.001003</td>\n",
       "      <td>0.000602</td>\n",
       "      <td>2193.2</td>\n",
       "    </tr>\n",
       "  </tbody>\n",
       "</table>\n",
       "<p>5 rows × 38 columns</p>\n",
       "</div>"
      ],
      "text/plain": [
       "              open  open_1  close 1  high_1   low 1    volume 1  avg_price_5  \\\n",
       "Date                                                                           \n",
       "1989-01-04  2146.6  2168.4   2144.6  2168.4  2127.1  17302883.0      2165.00   \n",
       "1989-01-05  2177.7  2146.6   2177.7  2183.4  2146.6  15714720.0      2168.00   \n",
       "1989-01-06  2190.5  2177.7   2190.5  2205.2  2173.0  20303094.0      2172.82   \n",
       "1989-01-09  2194.3  2190.5   2194.3  2213.8  2182.3  16494441.0      2175.14   \n",
       "1989-01-10  2199.5  2194.3   2199.5  2209.1  2185.0  18410324.0      2181.32   \n",
       "\n",
       "            avg_price_30  avg_price_365  ratio_avg_price_5_30  ...  \\\n",
       "Date                                                           ...   \n",
       "1989-01-04   2150.623810    2062.113095              1.006685  ...   \n",
       "1989-01-05   2154.690476    2062.668254              1.006177  ...   \n",
       "1989-01-06   2157.866667    2063.218254              1.006930  ...   \n",
       "1989-01-09   2160.004762    2064.341270              1.007007  ...   \n",
       "1989-01-10   2162.190476    2065.350794              1.008847  ...   \n",
       "\n",
       "            ratio_std_volume_5_365  ratio_std_volume_30_365  return_1  \\\n",
       "Date                                                                    \n",
       "1989-01-04                0.562543                 0.722978 -0.011067   \n",
       "1989-01-05                0.473516                 0.723715  0.015434   \n",
       "1989-01-06                0.579903                 0.747630  0.005878   \n",
       "1989-01-09                0.515648                 0.745619  0.001735   \n",
       "1989-01-10                0.278728                 0.741686  0.002370   \n",
       "\n",
       "            return_5  return_30  return_365  moving_avg_5  moving_avg_30  \\\n",
       "Date                                                                       \n",
       "1989-01-04 -0.011204   0.020315    0.055673      0.000770       0.001222   \n",
       "1989-01-05  0.006936   0.040816    0.068652     -0.002230       0.000979   \n",
       "1989-01-06  0.011124   0.031406    0.067547      0.001428       0.001931   \n",
       "1989-01-09  0.005315   0.020890    0.148067      0.002262       0.001494   \n",
       "1989-01-10  0.014249   0.021313    0.130790      0.001104       0.001003   \n",
       "\n",
       "            moving_avg_365   close  \n",
       "Date                                \n",
       "1989-01-04        0.000354  2177.7  \n",
       "1989-01-05        0.000278  2190.5  \n",
       "1989-01-06        0.000327  2194.3  \n",
       "1989-01-09        0.000323  2199.5  \n",
       "1989-01-10        0.000602  2193.2  \n",
       "\n",
       "[5 rows x 38 columns]"
      ]
     },
     "execution_count": 18,
     "metadata": {},
     "output_type": "execute_result"
    }
   ],
   "source": [
    "data = generate_features(mydata)\n",
    "data.head()"
   ]
  },
  {
   "cell_type": "markdown",
   "id": "6483d3e6",
   "metadata": {
    "id": "6483d3e6"
   },
   "source": [
    "### Splitting the Dataset"
   ]
  },
  {
   "cell_type": "code",
   "execution_count": 19,
   "id": "6eb0753a",
   "metadata": {
    "executionInfo": {
     "elapsed": 201,
     "status": "ok",
     "timestamp": 1678661434061,
     "user": {
      "displayName": "Mounika Avutu",
      "userId": "04641209210730551022"
     },
     "user_tz": 300
    },
    "id": "6eb0753a"
   },
   "outputs": [],
   "source": [
    "start_train ='1988-01-01'\n",
    "end_train='2018-12-31'\n",
    "start_test = '2019-01-01'\n",
    "end_test='2019-12-31'\n",
    "\n",
    "data_train=data.loc[start_train:end_train]\n",
    "X_train = data_train.drop('close', axis=1).values\n",
    "y_train = data_train['close'].values.reshape(-1,1)\n",
    "data_test = data.loc[start_test:end_test]\n",
    "X_test = data_test.drop('close',axis=1).values\n",
    "y_test = data_test['close'].values"
   ]
  },
  {
   "cell_type": "code",
   "execution_count": 20,
   "id": "a56f3fbd",
   "metadata": {},
   "outputs": [
    {
     "data": {
      "text/plain": [
       "array([[ 2.14660000e+03,  2.16840000e+03,  2.14460000e+03, ...,\n",
       "         7.70160586e-04,  1.22198334e-03,  3.53781858e-04],\n",
       "       [ 2.17770000e+03,  2.14660000e+03,  2.17770000e+03, ...,\n",
       "        -2.23014030e-03,  9.78736087e-04,  2.77966171e-04],\n",
       "       [ 2.19050000e+03,  2.17770000e+03,  2.19050000e+03, ...,\n",
       "         1.42840080e-03,  1.93118417e-03,  3.26906475e-04],\n",
       "       ...,\n",
       "       [ 2.26290600e+04,  2.18577300e+04,  2.28784500e+04, ...,\n",
       "        -1.56961511e-02, -5.38147761e-03, -4.52098686e-04],\n",
       "       [ 2.32136100e+04,  2.26290600e+04,  2.31388200e+04, ...,\n",
       "        -6.42770472e-03, -2.65996065e-03, -2.49777510e-04],\n",
       "       [ 2.31539400e+04,  2.32136100e+04,  2.30624000e+04, ...,\n",
       "        -1.17823747e-03, -2.81270786e-03, -2.03358072e-04]])"
      ]
     },
     "execution_count": 20,
     "metadata": {},
     "output_type": "execute_result"
    }
   ],
   "source": [
    "X_train"
   ]
  },
  {
   "cell_type": "code",
   "execution_count": 21,
   "id": "f061bc8e",
   "metadata": {},
   "outputs": [
    {
     "data": {
      "text/plain": [
       "array([[ 2177.7 ],\n",
       "       [ 2190.5 ],\n",
       "       [ 2194.3 ],\n",
       "       ...,\n",
       "       [23138.82],\n",
       "       [23062.4 ],\n",
       "       [23327.46]])"
      ]
     },
     "execution_count": 21,
     "metadata": {},
     "output_type": "execute_result"
    }
   ],
   "source": [
    "y_train"
   ]
  },
  {
   "cell_type": "markdown",
   "id": "2b6338d5",
   "metadata": {
    "id": "2b6338d5"
   },
   "source": [
    "### Scaling the Features"
   ]
  },
  {
   "cell_type": "code",
   "execution_count": 23,
   "id": "4f73df5c",
   "metadata": {},
   "outputs": [
    {
     "data": {
      "text/plain": [
       "array([[ 2.30586100e+04,  2.31539400e+04,  2.33274600e+04, ...,\n",
       "         2.14053440e-03, -3.17964288e-03, -2.20968383e-04],\n",
       "       [ 2.31763900e+04,  2.30586100e+04,  2.33462400e+04, ...,\n",
       "         8.06329058e-03, -3.82086621e-03, -1.85485319e-04],\n",
       "       [ 2.28949200e+04,  2.31763900e+04,  2.26862200e+04, ...,\n",
       "         1.40443893e-02, -3.73073680e-03, -1.63391611e-04],\n",
       "       ...,\n",
       "       [ 2.86753400e+04,  2.85394600e+04,  2.86213900e+04, ...,\n",
       "         1.75359702e-03,  1.09440696e-03,  1.10313668e-03],\n",
       "       [ 2.86547600e+04,  2.86753400e+04,  2.86452600e+04, ...,\n",
       "         2.69389352e-03,  9.45297177e-04,  9.20078594e-04],\n",
       "       [ 2.84146400e+04,  2.86547600e+04,  2.84621400e+04, ...,\n",
       "         1.88559616e-03,  8.91338877e-04,  8.78227059e-04]])"
      ]
     },
     "execution_count": 23,
     "metadata": {},
     "output_type": "execute_result"
    }
   ],
   "source": [
    "X_test"
   ]
  },
  {
   "cell_type": "code",
   "execution_count": 24,
   "id": "48e7df12",
   "metadata": {},
   "outputs": [
    {
     "data": {
      "text/plain": [
       "array([23346.24, 22686.22, 23433.16, 23531.35, 23787.45, 23879.12,\n",
       "       24001.92, 23995.95, 23909.84, 24065.59, 24207.16, 24370.1 ,\n",
       "       24706.35, 24404.48, 24575.62, 24553.24, 24737.2 , 24528.22,\n",
       "       24579.96, 25014.86, 24999.67, 25063.89, 25239.37, 25411.52,\n",
       "       25390.3 , 25169.53, 25106.33, 25053.11, 25425.76, 25543.27,\n",
       "       25439.39, 25883.25, 25891.32, 25954.44, 25850.63, 26031.81,\n",
       "       26091.95, 26057.98, 25985.16, 25916.  , 26026.32, 25819.65,\n",
       "       25806.63, 25673.46, 25473.23, 25450.24, 25650.88, 25554.66,\n",
       "       25702.89, 25709.94, 25848.87, 25914.1 , 25887.38, 25745.67,\n",
       "       25962.51, 25502.32, 25516.83, 25657.73, 25625.59, 25717.46,\n",
       "       25928.68, 26258.42, 26179.13, 26218.13, 26384.63, 26424.99,\n",
       "       26341.02, 26150.58, 26157.16, 26143.05, 26412.3 , 26384.77,\n",
       "       26452.66, 26449.54, 26559.54, 26511.05, 26656.39, 26597.05,\n",
       "       26462.08, 26543.33, 26554.39, 26592.91, 26430.14, 26307.79,\n",
       "       26504.95, 26438.48, 25965.09, 25967.33, 25828.36, 25942.37,\n",
       "       25324.99, 25532.05, 25648.02, 25862.68, 25764.  , 25679.9 ,\n",
       "       25877.33, 25776.61, 25490.47, 25585.69, 25347.77, 25126.41,\n",
       "       25169.88, 24815.04, 24819.78, 25332.18, 25539.57, 25720.66,\n",
       "       25983.94, 26062.68, 26048.51, 26004.83, 26106.77, 26089.61,\n",
       "       26112.53, 26465.54, 26504.  , 26753.17, 26719.13, 26727.54,\n",
       "       26548.22, 26536.82, 26526.58, 26599.96, 26717.43, 26786.68,\n",
       "       26966.  , 26922.12, 26806.14, 26783.49, 26860.2 , 27088.08,\n",
       "       27332.03, 27359.16, 27335.63, 27219.85, 27222.97, 27154.2 ,\n",
       "       27171.9 , 27349.19, 27269.97, 27140.98, 27192.45, 27221.35,\n",
       "       27198.02, 26864.27, 26583.42, 26485.01, 25717.74, 26029.52,\n",
       "       26007.07, 26378.19, 26287.44, 25907.37, 26279.91, 25479.42,\n",
       "       25579.39, 25886.01, 26135.79, 25962.44, 26202.73, 26252.24,\n",
       "       25628.9 , 25898.83, 25777.9 , 26036.1 , 26362.25, 26403.28,\n",
       "       26118.02, 26355.47, 26728.15, 26797.46, 26835.51, 26909.43,\n",
       "       27137.04, 27182.45, 27219.52, 27076.82, 27110.8 , 27147.08,\n",
       "       27094.79, 26935.07, 26949.99, 26807.77, 26970.71, 26891.12,\n",
       "       26820.25, 26916.83, 26573.04, 26078.62, 26201.04, 26573.72,\n",
       "       26478.02, 26164.04, 26346.01, 26496.67, 26816.59, 26787.36,\n",
       "       27024.8 , 27001.98, 27025.88, 26770.2 , 26827.64, 26788.1 ,\n",
       "       26833.95, 26805.53, 26958.06, 27090.72, 27071.42, 27186.69,\n",
       "       27046.23, 27347.36, 27462.11, 27492.63, 27492.56, 27674.8 ,\n",
       "       27681.24, 27691.49, 27691.49, 27783.59, 27781.96, 28004.89,\n",
       "       28036.22, 27934.02, 27821.09, 27766.29, 27875.62, 28066.47,\n",
       "       28121.68, 28164.  , 28051.41, 27783.04, 27502.81, 27649.78,\n",
       "       27677.79, 28015.06, 27909.6 , 27881.72, 27911.3 , 28132.05,\n",
       "       28135.38, 28235.89, 28267.16, 28239.28, 28376.96, 28455.09,\n",
       "       28551.53, 28515.45, 28621.39, 28645.26, 28462.14, 28538.44])"
      ]
     },
     "execution_count": 24,
     "metadata": {},
     "output_type": "execute_result"
    }
   ],
   "source": [
    "y_test"
   ]
  },
  {
   "cell_type": "code",
   "execution_count": 25,
   "id": "ddadff57",
   "metadata": {
    "executionInfo": {
     "elapsed": 158,
     "status": "ok",
     "timestamp": 1678661441640,
     "user": {
      "displayName": "Mounika Avutu",
      "userId": "04641209210730551022"
     },
     "user_tz": 300
    },
    "id": "ddadff57"
   },
   "outputs": [],
   "source": [
    "from sklearn.preprocessing import StandardScaler\n",
    "scaler = StandardScaler()\n",
    "\n",
    "X_Scaled_train = scaler.fit_transform(X_train)\n",
    "X_Scaled_test= scaler.transform(X_test)"
   ]
  },
  {
   "cell_type": "code",
   "execution_count": null,
   "id": "cf1f058a",
   "metadata": {},
   "outputs": [],
   "source": []
  },
  {
   "cell_type": "code",
   "execution_count": 26,
   "id": "2a226248",
   "metadata": {
    "colab": {
     "base_uri": "https://localhost:8080/"
    },
    "executionInfo": {
     "elapsed": 203,
     "status": "ok",
     "timestamp": 1678661452146,
     "user": {
      "displayName": "Mounika Avutu",
      "userId": "04641209210730551022"
     },
     "user_tz": 300
    },
    "id": "2a226248",
    "outputId": "a5871d02-2cda-4658-e4de-9afcfe0148ca"
   },
   "outputs": [
    {
     "data": {
      "text/plain": [
       "(7558, 37)"
      ]
     },
     "execution_count": 26,
     "metadata": {},
     "output_type": "execute_result"
    }
   ],
   "source": [
    "X_train.shape"
   ]
  },
  {
   "cell_type": "code",
   "execution_count": 27,
   "id": "87bd63a6",
   "metadata": {
    "colab": {
     "base_uri": "https://localhost:8080/"
    },
    "executionInfo": {
     "elapsed": 39,
     "status": "ok",
     "timestamp": 1678661507275,
     "user": {
      "displayName": "Mounika Avutu",
      "userId": "04641209210730551022"
     },
     "user_tz": 300
    },
    "id": "87bd63a6",
    "outputId": "121cf498-aceb-435c-97ef-3602eb7df203"
   },
   "outputs": [
    {
     "data": {
      "text/plain": [
       "(7558, 1)"
      ]
     },
     "execution_count": 27,
     "metadata": {},
     "output_type": "execute_result"
    }
   ],
   "source": [
    "y_train.shape"
   ]
  },
  {
   "cell_type": "markdown",
   "id": "07ee8a3a",
   "metadata": {
    "id": "07ee8a3a"
   },
   "source": [
    "### Train the neural network"
   ]
  },
  {
   "cell_type": "code",
   "execution_count": 28,
   "id": "d7bb8cc1",
   "metadata": {
    "colab": {
     "base_uri": "https://localhost:8080/"
    },
    "executionInfo": {
     "elapsed": 41236,
     "status": "ok",
     "timestamp": 1678661507274,
     "user": {
      "displayName": "Mounika Avutu",
      "userId": "04641209210730551022"
     },
     "user_tz": 300
    },
    "id": "d7bb8cc1",
    "outputId": "21f1d387-5acf-409a-f1ec-f9f2a1f0909a"
   },
   "outputs": [
    {
     "name": "stderr",
     "output_type": "stream",
     "text": [
      "C:\\Users\\KOTA UDAY SREE\\AppData\\Local\\Temp\\ipykernel_2676\\3581630580.py:2: RuntimeWarning: overflow encountered in exp\n",
      "  return 1.0/(1+np.exp(-z))\n"
     ]
    },
    {
     "name": "stdout",
     "output_type": "stream",
     "text": [
      "Iteration 100, training loss: 2035425.889292\n",
      "Iteration 200, training loss: 1189468.873577\n",
      "Iteration 300, training loss: 824851.380731\n",
      "Iteration 400, training loss: 618299.105001\n",
      "Iteration 500, training loss: 574030.694237\n",
      "Iteration 600, training loss: 577404.183735\n",
      "Iteration 700, training loss: 506013.252002\n",
      "Iteration 800, training loss: 479225.070435\n",
      "Iteration 900, training loss: 473485.377017\n",
      "Iteration 1000, training loss: 460872.548907\n",
      "Iteration 1100, training loss: 456507.155906\n",
      "Iteration 1200, training loss: 441657.768261\n",
      "Iteration 1300, training loss: 432295.356275\n",
      "Iteration 1400, training loss: 431010.123064\n",
      "Iteration 1500, training loss: 421220.762288\n",
      "Iteration 1600, training loss: 455993.128381\n",
      "Iteration 1700, training loss: 433146.175216\n",
      "Iteration 1800, training loss: 430808.111738\n",
      "Iteration 1900, training loss: 425919.715398\n",
      "Iteration 2000, training loss: 429072.154668\n"
     ]
    }
   ],
   "source": [
    "n_hidden = 20\n",
    "learning_rate = 0.1\n",
    "n_iter=2000\n",
    "model = train(X_Scaled_train, y_train, n_hidden, learning_rate, n_iter)"
   ]
  },
  {
   "cell_type": "markdown",
   "id": "2d1b05bc",
   "metadata": {
    "id": "2d1b05bc"
   },
   "source": [
    "### Prediction Function"
   ]
  },
  {
   "cell_type": "code",
   "execution_count": 29,
   "id": "32063505",
   "metadata": {
    "executionInfo": {
     "elapsed": 118,
     "status": "ok",
     "timestamp": 1678661519922,
     "user": {
      "displayName": "Mounika Avutu",
      "userId": "04641209210730551022"
     },
     "user_tz": 300
    },
    "id": "32063505"
   },
   "outputs": [],
   "source": [
    "def predict(x, model):\n",
    "    W1 = model['W1']\n",
    "    b1 = model['b1']\n",
    "    W2 = model['W2']\n",
    "    b2 = model['b2']\n",
    "    A2 = sigmoid(np.matmul(x,W1)+b1)\n",
    "    A3 = np.matmul(A2,W2)+b2\n",
    "    return A3"
   ]
  },
  {
   "cell_type": "code",
   "execution_count": 30,
   "id": "cb10586a",
   "metadata": {
    "colab": {
     "base_uri": "https://localhost:8080/"
    },
    "executionInfo": {
     "elapsed": 196,
     "status": "ok",
     "timestamp": 1678661529960,
     "user": {
      "displayName": "Mounika Avutu",
      "userId": "04641209210730551022"
     },
     "user_tz": 300
    },
    "id": "cb10586a",
    "outputId": "88abbb73-8206-4d34-f346-7e09edac045a"
   },
   "outputs": [
    {
     "name": "stderr",
     "output_type": "stream",
     "text": [
      "C:\\Users\\KOTA UDAY SREE\\AppData\\Local\\Temp\\ipykernel_2676\\3581630580.py:2: RuntimeWarning: overflow encountered in exp\n",
      "  return 1.0/(1+np.exp(-z))\n"
     ]
    }
   ],
   "source": [
    "predictions = predict(X_Scaled_test, model)"
   ]
  },
  {
   "cell_type": "code",
   "execution_count": 31,
   "id": "5285ffe8",
   "metadata": {
    "colab": {
     "base_uri": "https://localhost:8080/"
    },
    "executionInfo": {
     "elapsed": 137,
     "status": "ok",
     "timestamp": 1678661536551,
     "user": {
      "displayName": "Mounika Avutu",
      "userId": "04641209210730551022"
     },
     "user_tz": 300
    },
    "id": "5285ffe8",
    "outputId": "058f799e-7184-4ef0-b464-cdf6b8199b31"
   },
   "outputs": [
    {
     "name": "stdout",
     "output_type": "stream",
     "text": [
      "[[20308.3418912 ]\n",
      " [20308.3418912 ]\n",
      " [20308.3418912 ]\n",
      " [24330.49883309]\n",
      " [24330.49883309]\n",
      " [24330.49883309]\n",
      " [24330.49883309]\n",
      " [24330.49883309]\n",
      " [24328.03271779]\n",
      " [24330.49883309]\n",
      " [24330.49883309]\n",
      " [24330.49883309]\n",
      " [24330.49883309]\n",
      " [24330.49883309]\n",
      " [24330.49883309]\n",
      " [24330.49883309]\n",
      " [24330.49883309]\n",
      " [24330.49883309]\n",
      " [24330.49883309]\n",
      " [24330.49883309]\n",
      " [24330.49883309]\n",
      " [24330.49883309]\n",
      " [24330.49883309]\n",
      " [24330.49883309]\n",
      " [24330.49883309]\n",
      " [24330.49883309]\n",
      " [24330.49883309]\n",
      " [24330.49883309]\n",
      " [24330.49883309]\n",
      " [24330.49883309]\n",
      " [24330.49883309]\n",
      " [24330.49883309]\n",
      " [24330.49883309]\n",
      " [24330.49883309]\n",
      " [24330.49883309]\n",
      " [24330.49883309]\n",
      " [24330.49883309]\n",
      " [24330.49883309]\n",
      " [24330.49883309]\n",
      " [24330.49883309]\n",
      " [24330.49883309]\n",
      " [24330.49883309]\n",
      " [24630.12797142]\n",
      " [24630.12797142]\n",
      " [24630.12797142]\n",
      " [24330.49883309]\n",
      " [24330.49883309]\n",
      " [24330.49883309]\n",
      " [24330.49883309]\n",
      " [24330.49883309]\n",
      " [24330.49883309]\n",
      " [24330.49883309]\n",
      " [24330.49883309]\n",
      " [24330.49883309]\n",
      " [24330.49883309]\n",
      " [24330.49883309]\n",
      " [24330.49883309]\n",
      " [24330.49883309]\n",
      " [24330.49883309]\n",
      " [24330.49883309]\n",
      " [24330.49883309]\n",
      " [24330.49883309]\n",
      " [24330.49883309]\n",
      " [24630.12797142]\n",
      " [24630.12797142]\n",
      " [24630.12797142]\n",
      " [24630.12797142]\n",
      " [24630.12797142]\n",
      " [24630.12797142]\n",
      " [24630.12797142]\n",
      " [24630.12797142]\n",
      " [24630.12795771]\n",
      " [24630.12797142]\n",
      " [24630.12797142]\n",
      " [24630.12797142]\n",
      " [24630.12797142]\n",
      " [24630.12797142]\n",
      " [24630.12797142]\n",
      " [24630.12797142]\n",
      " [24630.12797142]\n",
      " [24630.12797142]\n",
      " [24630.12797142]\n",
      " [24630.12797142]\n",
      " [24630.12797142]\n",
      " [24630.12797142]\n",
      " [21853.81344898]\n",
      " [24630.12797142]\n",
      " [24630.12797142]\n",
      " [24630.12797142]\n",
      " [24630.12797142]\n",
      " [24630.12797142]\n",
      " [24330.49883309]\n",
      " [24330.49883309]\n",
      " [24330.49883309]\n",
      " [24330.49883309]\n",
      " [24330.49883309]\n",
      " [24330.49883309]\n",
      " [24330.49883309]\n",
      " [24630.12794225]\n",
      " [24330.49883309]\n",
      " [24330.49883309]\n",
      " [24330.49883309]\n",
      " [24330.49883309]\n",
      " [24330.49883309]\n",
      " [24330.49883309]\n",
      " [24330.49883309]\n",
      " [24330.49883309]\n",
      " [24330.49883309]\n",
      " [24330.49883309]\n",
      " [24330.49883309]\n",
      " [24330.49883309]\n",
      " [24330.49883309]\n",
      " [24330.49883309]\n",
      " [24630.12797142]\n",
      " [24630.12797142]\n",
      " [24630.12797142]\n",
      " [24330.49883309]\n",
      " [24630.12797142]\n",
      " [24630.12797142]\n",
      " [24330.49883309]\n",
      " [24630.12797142]\n",
      " [24630.12797142]\n",
      " [24630.12797142]\n",
      " [24630.12797142]\n",
      " [24330.49883309]\n",
      " [24630.12797142]\n",
      " [24630.12797142]\n",
      " [24630.12797142]\n",
      " [24630.12797142]\n",
      " [21853.81344898]\n",
      " [21853.81344898]\n",
      " [21853.81344898]\n",
      " [21853.81344898]\n",
      " [24464.98423039]\n",
      " [21853.81344898]\n",
      " [21853.81344898]\n",
      " [21853.81344898]\n",
      " [21853.81344898]\n",
      " [21853.81344898]\n",
      " [21853.81344898]\n",
      " [21853.81344898]\n",
      " [21853.81344898]\n",
      " [21853.81344898]\n",
      " [21853.81344898]\n",
      " [21853.81344898]\n",
      " [21853.81344898]\n",
      " [21853.81344898]\n",
      " [24630.12797142]\n",
      " [24630.12797142]\n",
      " [24330.49883309]\n",
      " [24330.49883309]\n",
      " [24330.49883309]\n",
      " [24330.49883309]\n",
      " [24330.49883309]\n",
      " [24330.49883309]\n",
      " [24330.49883309]\n",
      " [24330.49883309]\n",
      " [24330.49883309]\n",
      " [24330.49883309]\n",
      " [24330.49883309]\n",
      " [24330.49883309]\n",
      " [24330.49883309]\n",
      " [24330.49883309]\n",
      " [24330.49883309]\n",
      " [24330.49883309]\n",
      " [24330.49883309]\n",
      " [24330.49883309]\n",
      " [24330.49883309]\n",
      " [16231.28453781]\n",
      " [18247.76071414]\n",
      " [18788.29454668]\n",
      " [18247.76071414]\n",
      " [18247.76071414]\n",
      " [20273.46468981]\n",
      " [20273.46468981]\n",
      " [20273.46468981]\n",
      " [20273.46468981]\n",
      " [20273.46468981]\n",
      " [20273.46468981]\n",
      " [20273.46468981]\n",
      " [20273.46468981]\n",
      " [20273.46468981]\n",
      " [20273.46468981]\n",
      " [20273.46468981]\n",
      " [20273.46468981]\n",
      " [20273.46468981]\n",
      " [20273.46468981]\n",
      " [20273.46468981]\n",
      " [20273.46468981]\n",
      " [24292.16497366]\n",
      " [24330.49883309]\n",
      " [24330.49883309]\n",
      " [24330.49883309]\n",
      " [24330.49882933]\n",
      " [24330.49883309]\n",
      " [21554.18431065]\n",
      " [21554.18431065]\n",
      " [24330.49883309]\n",
      " [21554.18431065]\n",
      " [21554.18431065]\n",
      " [21554.18431065]\n",
      " [21853.81344898]\n",
      " [21554.18431065]\n",
      " [21853.81344898]\n",
      " [21853.81344898]\n",
      " [21853.81344898]\n",
      " [21853.81344898]\n",
      " [21853.81344898]\n",
      " [21853.81344898]\n",
      " [21853.81344898]\n",
      " [21853.81344898]\n",
      " [21853.81344898]\n",
      " [21853.81344898]\n",
      " [21853.81344898]\n",
      " [21853.81344898]\n",
      " [21853.81344898]\n",
      " [21853.81344898]\n",
      " [21853.81344898]\n",
      " [21853.81344898]\n",
      " [21853.81344898]\n",
      " [21853.81344898]\n",
      " [21853.81344898]\n",
      " [21853.81344898]\n",
      " [21853.81344898]\n",
      " [21853.81344898]\n",
      " [21853.81344898]\n",
      " [21853.81344898]\n",
      " [21853.81344898]\n",
      " [21853.81344898]\n",
      " [21853.81344898]\n",
      " [21853.81344898]\n",
      " [21853.81344898]\n",
      " [21853.81344898]\n",
      " [21853.81344898]\n",
      " [21853.81344898]\n",
      " [21853.81344898]\n",
      " [21853.81344898]\n",
      " [21853.81344898]\n",
      " [21853.81344898]\n",
      " [21853.81344898]\n",
      " [21853.81344898]\n",
      " [21853.81344898]\n",
      " [21853.81344898]\n",
      " [21853.81344898]\n",
      " [21853.81344898]\n",
      " [21853.81344898]\n",
      " [21853.81344898]\n",
      " [21853.81344898]\n",
      " [21853.81344898]\n",
      " [21853.81344898]\n",
      " [21853.81344898]\n",
      " [21853.81344898]]\n"
     ]
    }
   ],
   "source": [
    "print(predictions)"
   ]
  },
  {
   "cell_type": "code",
   "execution_count": 32,
   "id": "a7179fab",
   "metadata": {
    "colab": {
     "base_uri": "https://localhost:8080/"
    },
    "executionInfo": {
     "elapsed": 151,
     "status": "ok",
     "timestamp": 1678661542058,
     "user": {
      "displayName": "Mounika Avutu",
      "userId": "04641209210730551022"
     },
     "user_tz": 300
    },
    "id": "a7179fab",
    "outputId": "320083f2-dedb-4de2-c925-194c80c2390d"
   },
   "outputs": [
    {
     "name": "stdout",
     "output_type": "stream",
     "text": [
      "[23346.24 22686.22 23433.16 23531.35 23787.45 23879.12 24001.92 23995.95\n",
      " 23909.84 24065.59 24207.16 24370.1  24706.35 24404.48 24575.62 24553.24\n",
      " 24737.2  24528.22 24579.96 25014.86 24999.67 25063.89 25239.37 25411.52\n",
      " 25390.3  25169.53 25106.33 25053.11 25425.76 25543.27 25439.39 25883.25\n",
      " 25891.32 25954.44 25850.63 26031.81 26091.95 26057.98 25985.16 25916.\n",
      " 26026.32 25819.65 25806.63 25673.46 25473.23 25450.24 25650.88 25554.66\n",
      " 25702.89 25709.94 25848.87 25914.1  25887.38 25745.67 25962.51 25502.32\n",
      " 25516.83 25657.73 25625.59 25717.46 25928.68 26258.42 26179.13 26218.13\n",
      " 26384.63 26424.99 26341.02 26150.58 26157.16 26143.05 26412.3  26384.77\n",
      " 26452.66 26449.54 26559.54 26511.05 26656.39 26597.05 26462.08 26543.33\n",
      " 26554.39 26592.91 26430.14 26307.79 26504.95 26438.48 25965.09 25967.33\n",
      " 25828.36 25942.37 25324.99 25532.05 25648.02 25862.68 25764.   25679.9\n",
      " 25877.33 25776.61 25490.47 25585.69 25347.77 25126.41 25169.88 24815.04\n",
      " 24819.78 25332.18 25539.57 25720.66 25983.94 26062.68 26048.51 26004.83\n",
      " 26106.77 26089.61 26112.53 26465.54 26504.   26753.17 26719.13 26727.54\n",
      " 26548.22 26536.82 26526.58 26599.96 26717.43 26786.68 26966.   26922.12\n",
      " 26806.14 26783.49 26860.2  27088.08 27332.03 27359.16 27335.63 27219.85\n",
      " 27222.97 27154.2  27171.9  27349.19 27269.97 27140.98 27192.45 27221.35\n",
      " 27198.02 26864.27 26583.42 26485.01 25717.74 26029.52 26007.07 26378.19\n",
      " 26287.44 25907.37 26279.91 25479.42 25579.39 25886.01 26135.79 25962.44\n",
      " 26202.73 26252.24 25628.9  25898.83 25777.9  26036.1  26362.25 26403.28\n",
      " 26118.02 26355.47 26728.15 26797.46 26835.51 26909.43 27137.04 27182.45\n",
      " 27219.52 27076.82 27110.8  27147.08 27094.79 26935.07 26949.99 26807.77\n",
      " 26970.71 26891.12 26820.25 26916.83 26573.04 26078.62 26201.04 26573.72\n",
      " 26478.02 26164.04 26346.01 26496.67 26816.59 26787.36 27024.8  27001.98\n",
      " 27025.88 26770.2  26827.64 26788.1  26833.95 26805.53 26958.06 27090.72\n",
      " 27071.42 27186.69 27046.23 27347.36 27462.11 27492.63 27492.56 27674.8\n",
      " 27681.24 27691.49 27691.49 27783.59 27781.96 28004.89 28036.22 27934.02\n",
      " 27821.09 27766.29 27875.62 28066.47 28121.68 28164.   28051.41 27783.04\n",
      " 27502.81 27649.78 27677.79 28015.06 27909.6  27881.72 27911.3  28132.05\n",
      " 28135.38 28235.89 28267.16 28239.28 28376.96 28455.09 28551.53 28515.45\n",
      " 28621.39 28645.26 28462.14 28538.44]\n"
     ]
    }
   ],
   "source": [
    "print(y_test)"
   ]
  },
  {
   "cell_type": "code",
   "execution_count": null,
   "id": "570bd8b9",
   "metadata": {
    "executionInfo": {
     "elapsed": 122,
     "status": "ok",
     "timestamp": 1678660890702,
     "user": {
      "displayName": "Mounika Avutu",
      "userId": "04641209210730551022"
     },
     "user_tz": 300
    },
    "id": "570bd8b9"
   },
   "outputs": [],
   "source": []
  }
 ],
 "metadata": {
  "colab": {
   "provenance": []
  },
  "kernelspec": {
   "display_name": "Python 3 (ipykernel)",
   "language": "python",
   "name": "python3"
  },
  "language_info": {
   "codemirror_mode": {
    "name": "ipython",
    "version": 3
   },
   "file_extension": ".py",
   "mimetype": "text/x-python",
   "name": "python",
   "nbconvert_exporter": "python",
   "pygments_lexer": "ipython3",
   "version": "3.8.2"
  }
 },
 "nbformat": 4,
 "nbformat_minor": 5
}
